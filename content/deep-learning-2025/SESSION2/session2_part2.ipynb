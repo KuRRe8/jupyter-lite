{
  "cells": [
    {
      "cell_type": "markdown",
      "metadata": {},
      "source": [
        "<a target=\"_blank\" href=\"https://colab.research.google.com/github/ntu-dl-bootcamp/deep-learning-2025/blob/main/SESSION2/session2_part2.ipynb\">\n",
        "  <img src=\"https://colab.research.google.com/assets/colab-badge.svg\" alt=\"Open In Colab\"/>\n",
        "</a>"
      ]
    },
    {
      "cell_type": "markdown",
      "metadata": {
        "id": "7AfoRDLwVUiF"
      },
      "source": [
        "# Datasets and Dataloaders\n",
        "\n",
        "PyTorch has `torch.utils.data.Dataloader` and `torch.utils.data.Dataset` to allow you to use pre-loaded data as well as your own data.\n",
        "\n",
        "`Dataset` stores the samples and their corresponding labels.\n",
        "\n",
        "`Dataloader` wraps an _iterable_ around the `Dataset` for easy access to samples. An iterable in python is any object which can be looped over or iterated over with the help of a for loop.\n",
        "\n",
        "PyTorch provides a number of pre-loaded datasets. You can find them here: [Image Datasets](https://pytorch.org/vision/stable/datasets.html), [Text Datasets](https://pytorch.org/text/stable/datasets.html), and [Audio Datasets](https://pytorch.org/audio/stable/datasets.html)."
      ]
    },
    {
      "cell_type": "markdown",
      "metadata": {
        "id": "oWxqggWBX1cB"
      },
      "source": [
        "## Loading a Dataset\n",
        "\n",
        "The MNIST (Modified National Institute of Standards and Technology) dataset is a collection of 70,000 images of handwritten digits (0 through 9).\n",
        "\n",
        "Each image is:\n",
        "- Size: 28x28 pixels (small, grayscale images)\n",
        "- Total Images: 60,000 for training and 10,000 for testing\n",
        "- Labels: Each image is labeled with the digit it represents (0 to 9)\n",
        "\n",
        "The MNIST dataset is widely used for learning and testing basic image processing and machine learning techniques, especially in deep learning. Since the images are simple and low-resolution, the dataset allows us to build and train models quickly.\n",
        "\n",
        "We will load the MNIST dataset from `torchvision`. Read more about this dataset [here](https://en.wikipedia.org/wiki/MNIST_database)."
      ]
    },
    {
      "cell_type": "code",
      "execution_count": null,
      "metadata": {
        "id": "wvWcdvSOVxjU"
      },
      "outputs": [],
      "source": [
        "# Import the necessary modules from torchvision\n",
        "from torchvision import datasets  # for accessing popular datasets\n",
        "from torchvision.transforms import ToTensor  # for converting images to PyTorch tensors\n",
        "\n",
        "# Download and prepare the training data\n",
        "training_data = datasets.MNIST(\n",
        "    root=\"data\",  # 'root' is the directory where the dataset will be stored\n",
        "    train=True,  # 'train=True' specifies that we want the training set\n",
        "    download=True,  # 'download=True' will download the dataset if it's not already present\n",
        "    transform=ToTensor(),  # 'transform=ToTensor()' converts the images to PyTorch tensors (needed for PyTorch models)\n",
        ")\n",
        "\n",
        "# Download and prepare the test data\n",
        "test_data = datasets.MNIST(\n",
        "    root=\"data\",  # Store the test data in the same directory as training data\n",
        "    train=False,  # 'train=False' specifies that we want the test set\n",
        "    download=True,  # 'download=True' will download the test dataset if it's not already present\n",
        "    transform=ToTensor(),  # Convert test images to tensors, just like the training data\n",
        ")\n",
        "\n",
        "# Explanation:\n",
        "# - datasets.MNIST() provides access to the MNIST dataset, with options to load either training or test data.\n",
        "# - ToTensor() transforms each image from a PIL image format (used by default) to a PyTorch tensor.\n",
        "# - The 'root' parameter specifies where the data should be saved on your system."
      ]
    },
    {
      "cell_type": "code",
      "execution_count": null,
      "metadata": {
        "colab": {
          "base_uri": "https://localhost:8080/"
        },
        "id": "84rMBLuMZfJD",
        "outputId": "9ea3911a-776e-43cf-baa1-f95cbe167b39"
      },
      "outputs": [
        {
          "name": "stdout",
          "output_type": "stream",
          "text": [
            "Number of samples in training data  60000\n",
            "Number of samples in test data  10000\n"
          ]
        }
      ],
      "source": [
        "print(\"Number of samples in training data \", len(training_data))\n",
        "print(\"Number of samples in test data \", len(test_data))"
      ]
    },
    {
      "cell_type": "code",
      "execution_count": null,
      "metadata": {
        "colab": {
          "base_uri": "https://localhost:8080/"
        },
        "id": "63vl9X_hbHP0",
        "outputId": "4abd0c7c-8306-40f3-ba80-ec388c082079"
      },
      "outputs": [
        {
          "name": "stdout",
          "output_type": "stream",
          "text": [
            "Image shape before np.squeeze: torch.Size([1, 28, 28])\n",
            "Image shape before np.squeeze: torch.Size([28, 28])\n"
          ]
        }
      ],
      "source": [
        "# Import the necessary module for plotting images\n",
        "import matplotlib.pyplot as plt  # 'matplotlib.pyplot' is a library for creating visualizations in Python\n",
        "\n",
        "# Access the 10th image and its label from the training dataset\n",
        "image, label = training_data[\n",
        "    10\n",
        "]  # 'training_data[10]' retrieves the 10th image and its label from the dataset\n",
        "\n",
        "# Print the shape of the image tensor\n",
        "print(\n",
        "    f\"Image shape before np.squeeze: {image.shape}\"\n",
        ")  # dimensions of the image tensor before any modifications\n",
        "\n",
        "# Remove the single color channel dimension from the image tensor\n",
        "image = (\n",
        "    image.squeeze()\n",
        ")  # 'squeeze()' removes extra dimensions of size 1 (from [1, 28, 28] to [28, 28])\n",
        "\n",
        "# Print the shape of the image tensor after squeezing\n",
        "print(f\"Image shape before np.squeeze: {image.shape}\")"
      ]
    },
    {
      "cell_type": "code",
      "execution_count": null,
      "metadata": {
        "colab": {
          "base_uri": "https://localhost:8080/",
          "height": 448
        },
        "id": "q88dR3tfGBPV",
        "outputId": "d31c5021-4995-492f-aa5e-4cf766752ef7"
      },
      "outputs": [
        {
          "data": {
            "image/png": "[encoded data removed]",
            "text/plain": [
              "<Figure size 640x480 with 1 Axes>"
            ]
          },
          "metadata": {},
          "output_type": "display_data"
        },
        {
          "name": "stdout",
          "output_type": "stream",
          "text": [
            "Label: 3\n"
          ]
        }
      ],
      "source": [
        "# Display the image using matplotlib\n",
        "plt.imshow(image, cmap=\"gray\")  # 'cmap='gray'' shows it in grayscale\n",
        "plt.show()\n",
        "print(f\"Label: {label}\")\n",
        "\n",
        "# TODO: Try to visualise a different sample from the dataset"
      ]
    },
    {
      "cell_type": "markdown",
      "metadata": {
        "id": "W_IJ3lSGbjrb"
      },
      "source": [
        "## Preparing your data for training using DataLoaders\n",
        "\n",
        "The `Dataset` we created above retrieves the data one sample at a time. While training a model, we typically want to\n",
        "1. pass samples in **minibatches**,\n",
        "2. reshuffle the data at every epoch to **reduce model overfitting** and\n",
        "3. Use python's `multiprocessing` to **speed up data retrieval**\n",
        "\n",
        "A dataloader is an _iterable_ that does these things for us."
      ]
    },
    {
      "cell_type": "code",
      "execution_count": null,
      "metadata": {
        "id": "D_VIlqzFaqT5"
      },
      "outputs": [],
      "source": [
        "from torch.utils.data import DataLoader\n",
        "\n",
        "train_dataloader = DataLoader(training_data, batch_size=64, shuffle=True)\n",
        "test_dataloader = DataLoader(test_data, batch_size=64, shuffle=True)"
      ]
    },
    {
      "cell_type": "markdown",
      "metadata": {
        "id": "4D9vtcvndAwr"
      },
      "source": [
        "We have loaded our dataset into the `Dataloader` and can iterate through the dataset as needed. Each iteration below returns a **batch** of `train_features` and `train_labels`. After we iterate over all batches, the data will **shuffled**."
      ]
    },
    {
      "cell_type": "code",
      "execution_count": null,
      "metadata": {
        "colab": {
          "base_uri": "https://localhost:8080/"
        },
        "id": "hxJFfJQUcruN",
        "outputId": "ad8096dd-5c8b-4ea5-cd32-ea1c71870961"
      },
      "outputs": [
        {
          "name": "stdout",
          "output_type": "stream",
          "text": [
            "Feature batch shape: torch.Size([64, 1, 28, 28])\n",
            "Labels batch shape: torch.Size([64])\n"
          ]
        }
      ],
      "source": [
        "train_features, train_labels = next(iter(train_dataloader))\n",
        "print(f\"Feature batch shape: {train_features.size()}\")\n",
        "print(f\"Labels batch shape: {train_labels.size()}\")"
      ]
    },
    {
      "cell_type": "code",
      "execution_count": null,
      "metadata": {
        "colab": {
          "base_uri": "https://localhost:8080/",
          "height": 448
        },
        "id": "p4KwSlkRdquy",
        "outputId": "23c4d738-5471-4a8d-a229-621c841c3c20"
      },
      "outputs": [
        {
          "data": {
            "image/png": "[encoded data removed]",
            "text/plain": [
              "<Figure size 640x480 with 1 Axes>"
            ]
          },
          "metadata": {},
          "output_type": "display_data"
        },
        {
          "name": "stdout",
          "output_type": "stream",
          "text": [
            "Label: 4\n"
          ]
        }
      ],
      "source": [
        "# Visualising one image from the selected batch\n",
        "\n",
        "img = train_features[0].squeeze()\n",
        "label = train_labels[0]\n",
        "\n",
        "plt.imshow(img, cmap=\"gray\")\n",
        "plt.show()\n",
        "print(f\"Label: {label}\")\n",
        "\n",
        "# TODO: Try to visualise a different sample from this batch"
      ]
    },
    {
      "cell_type": "markdown",
      "metadata": {
        "id": "izv4-F3He1Og"
      },
      "source": [
        "# Build the Neural Network\n",
        "\n",
        "Neural networks contains layers that perform various operations on data. All the building blocks that you need to build a neural network are available in `torch.nn`.\n",
        "\n",
        "Every module in PyTorch will be a subclass of `nn.Module`. A neural network is itself a module that consists of other modules (layers). This **nested structure** allows us to build complex architectures easily."
      ]
    },
    {
      "cell_type": "code",
      "execution_count": null,
      "metadata": {
        "id": "0fNQrmFyflkz"
      },
      "outputs": [],
      "source": [
        "import os\n",
        "import torch\n",
        "from torch import nn\n",
        "from torch.utils.data import DataLoader\n",
        "from torchvision import datasets, transforms"
      ]
    },
    {
      "cell_type": "code",
      "execution_count": null,
      "metadata": {
        "colab": {
          "base_uri": "https://localhost:8080/"
        },
        "id": "uW80AIgEftUZ",
        "outputId": "d50a2ad2-cbed-48d6-bc3a-4d373531d388"
      },
      "outputs": [
        {
          "name": "stdout",
          "output_type": "stream",
          "text": [
            "False\n",
            "Using cpu device\n"
          ]
        }
      ],
      "source": [
        "# check if GPU is availble\n",
        "print(torch.cuda.is_available())\n",
        "\n",
        "device = \"cuda\" if torch.cuda.is_available() else \"cpu\"\n",
        "print(f\"Using {device} device\")"
      ]
    },
    {
      "cell_type": "markdown",
      "metadata": {
        "id": "beH1p35uG2dm"
      },
      "source": [
        "If you see \"Using cpu device\" in the second line in the previous cell's output, change your runtime to use a GPU.\n",
        "\n",
        "In colab,\n",
        "1. Go to \"Runtime\" tab\n",
        "2. Select \"Change runtime type\"\n",
        "3. Select \"T4 GPU\" under \"Hardware Accelerator\"\n",
        "4. ⚠️ Wait for the run time to change and run all the previous cells."
      ]
    },
    {
      "cell_type": "markdown",
      "metadata": {
        "id": "daZ_MXbjgjGU"
      },
      "source": [
        "Next, we need to define our model by creating a python class. The model class should be a subclass of `nn.Module`.\n",
        "\n",
        "In the `__init__` method in our class, we can **initialise our neural network**. We need to define the **operations we need to perform on the input data** in the `forward` method."
      ]
    },
    {
      "cell_type": "code",
      "execution_count": null,
      "metadata": {
        "id": "hyPYsmsZgKz6"
      },
      "outputs": [],
      "source": [
        "class NeuralNetwork(nn.Module):\n",
        "    def __init__(self):\n",
        "        super().__init__()\n",
        "        self.flatten = nn.Flatten()\n",
        "        self.linear_relu_stack = nn.Sequential(\n",
        "            nn.Linear(28 * 28, 512),\n",
        "            nn.ReLU(),\n",
        "            nn.Linear(512, 512),\n",
        "            nn.ReLU(),\n",
        "            nn.Linear(512, 10),\n",
        "        )\n",
        "\n",
        "    def forward(self, x):\n",
        "        x = self.flatten(x)\n",
        "        logits = self.linear_relu_stack(x)\n",
        "        return logits"
      ]
    },
    {
      "cell_type": "code",
      "execution_count": null,
      "metadata": {
        "colab": {
          "base_uri": "https://localhost:8080/"
        },
        "id": "Mfhz_6KthZH0",
        "outputId": "534fe1e3-074c-42e6-be4d-a5978b3d6633"
      },
      "outputs": [
        {
          "name": "stdout",
          "output_type": "stream",
          "text": [
            "NeuralNetwork(\n",
            "  (flatten): Flatten(start_dim=1, end_dim=-1)\n",
            "  (linear_relu_stack): Sequential(\n",
            "    (0): Linear(in_features=784, out_features=512, bias=True)\n",
            "    (1): ReLU()\n",
            "    (2): Linear(in_features=512, out_features=512, bias=True)\n",
            "    (3): ReLU()\n",
            "    (4): Linear(in_features=512, out_features=10, bias=True)\n",
            "  )\n",
            ")\n"
          ]
        }
      ],
      "source": [
        "# Create an object of the model class and move that object to the `device` we\n",
        "# defined earlier\n",
        "\n",
        "model = NeuralNetwork().to(device)\n",
        "print(model)"
      ]
    },
    {
      "cell_type": "code",
      "execution_count": null,
      "metadata": {
        "colab": {
          "base_uri": "https://localhost:8080/",
          "height": 591
        },
        "id": "6seQ939Ehjki",
        "outputId": "5dbadcc9-d772-4ae5-cf0e-4b0c547ea7cc"
      },
      "outputs": [
        {
          "data": {
            "image/png": "[encoded data removed]",
            "text/plain": [
              "<Figure size 640x480 with 1 Axes>"
            ]
          },
          "metadata": {},
          "output_type": "display_data"
        },
        {
          "name": "stdout",
          "output_type": "stream",
          "text": [
            "Label: 5\n",
            "\n",
            "Logits: tensor([[ 0.0182,  0.0267, -0.0011,  0.0528, -0.0236, -0.0067,  0.0334, -0.0234,\n",
            "          0.0583,  0.0306]], grad_fn=<AddmmBackward0>)\n",
            "\n",
            "Predicted probabilities: tensor([[0.1001, 0.1010, 0.0982, 0.1037, 0.0960, 0.0977, 0.1017, 0.0961, 0.1042,\n",
            "         0.1014]], grad_fn=<SoftmaxBackward0>)\n",
            "\n",
            "Predicted class: tensor([8])\n"
          ]
        }
      ],
      "source": [
        "# To use this model, we pass the input data.\n",
        "img, label = training_data[0]\n",
        "\n",
        "# visualising the image\n",
        "plt.imshow(img.squeeze(), cmap=\"gray\")\n",
        "plt.show()\n",
        "print(f\"Label: {label}\\n\")\n",
        "\n",
        "# Move the image tensor to the specified device (CPU or GPU)\n",
        "img = img.to(\n",
        "    device\n",
        ")  # 'img.to(device)' moves the image to the device (GPU or CPU) to match where the model is located.\n",
        "\n",
        "# Pass the image through the model to get the raw output (logits)\n",
        "logits = model(\n",
        "    img\n",
        ")  # 'model(img)' performs a forward pass through the model with 'img' as input, returning the raw output (logits).\n",
        "print(\n",
        "    f\"Logits: {logits}\\n\"\n",
        ")  # Print the raw output, which represents unnormalized scores for each class.\n",
        "\n",
        "# Convert logits to probabilities\n",
        "predicted_probabilities = nn.Softmax(\n",
        "    dim=1\n",
        ")(\n",
        "    logits\n",
        ")  # 'Softmax(dim=1)' applies the softmax function to logits to get probabilities. 'dim=1' ensures the function is applied across each class.\n",
        "print(\n",
        "    f\"Predicted probabilities: {predicted_probabilities}\\n\"\n",
        ")  # Print the predicted probabilities for each class, which now sum to 1.\n",
        "\n",
        "# Determine the predicted class by finding the index with the highest probability\n",
        "predicted_class = torch.argmax(\n",
        "    predicted_probabilities, dim=1\n",
        ")  # 'argmax' finds the class index with the highest probability, indicating the model's prediction.\n",
        "print(f\"Predicted class: {predicted_class}\")  # Print the predicted class index.\n",
        "\n",
        "# TODO: Try with another image"
      ]
    },
    {
      "cell_type": "markdown",
      "metadata": {
        "id": "gJ4fwHiCm8A3"
      },
      "source": [
        "## What happens to the input at each layer in the network?\n",
        "\n",
        "Let us create a sample minibatch of 3 random images, each of size 28 x 28 and pass it through each layer in the neural network.\n",
        "\n",
        "```\n",
        "NeuralNetwork(\n",
        "  (flatten): Flatten(start_dim=1, end_dim=-1)\n",
        "  (linear_relu_stack): Sequential(\n",
        "    (0): Linear(in_features=784, out_features=512, bias=True)\n",
        "    (1): ReLU()\n",
        "    (2): Linear(in_features=512, out_features=512, bias=True)\n",
        "    (3): ReLU()\n",
        "    (4): Linear(in_features=512, out_features=10, bias=True)\n",
        "  )\n",
        ")\n",
        "```"
      ]
    },
    {
      "cell_type": "code",
      "execution_count": null,
      "metadata": {
        "colab": {
          "base_uri": "https://localhost:8080/"
        },
        "id": "0RJQy7-njEE6",
        "outputId": "8f60aac4-7092-4f85-8f4e-9c5025762024"
      },
      "outputs": [
        {
          "name": "stdout",
          "output_type": "stream",
          "text": [
            "torch.Size([3, 28, 28])\n"
          ]
        }
      ],
      "source": [
        "# Create a minibatch containing 3 random images of size 28 x 28\n",
        "input_minibatch = torch.rand(3, 28, 28)\n",
        "print(input_minibatch.size())"
      ]
    },
    {
      "cell_type": "markdown",
      "metadata": {
        "id": "RoVcmxHOoK61"
      },
      "source": [
        "### nn.Flatten\n",
        "\n",
        "Let us initialise a `nn.Flatten` module. It converts each 28 x 28 image into a contiguous array of 784 pixels each."
      ]
    },
    {
      "cell_type": "code",
      "execution_count": null,
      "metadata": {
        "colab": {
          "base_uri": "https://localhost:8080/"
        },
        "id": "MXTPUy1cn-O0",
        "outputId": "0ec787bd-7508-4ec1-8094-5629fc99f9f2"
      },
      "outputs": [
        {
          "name": "stdout",
          "output_type": "stream",
          "text": [
            "torch.Size([3, 784])\n"
          ]
        }
      ],
      "source": [
        "flatten = nn.Flatten()  # initialise the flatten module\n",
        "flat_image = flatten(\n",
        "    input_minibatch\n",
        ")  # pass the input minibatch through the initialised module\n",
        "print(flat_image.size())"
      ]
    },
    {
      "cell_type": "markdown",
      "metadata": {
        "id": "iN94eOX1okRh"
      },
      "source": [
        "### nn.Linear\n",
        "\n",
        "The linear module applies a linear transformation to the input using its stored weights and biases."
      ]
    },
    {
      "cell_type": "code",
      "execution_count": null,
      "metadata": {
        "colab": {
          "base_uri": "https://localhost:8080/"
        },
        "id": "84Ewd1lIoecJ",
        "outputId": "576cdcb1-d0ae-47c3-9e17-de16be5ed46f"
      },
      "outputs": [
        {
          "name": "stdout",
          "output_type": "stream",
          "text": [
            "torch.Size([3, 512])\n"
          ]
        }
      ],
      "source": [
        "layer1 = nn.Linear(in_features=28 * 28, out_features=512)  # initialise the linear layer\n",
        "hidden1 = layer1(\n",
        "    flat_image\n",
        ")  # pass the output from previous flatten layer through the linear layer\n",
        "print(hidden1.size())"
      ]
    },
    {
      "cell_type": "markdown",
      "metadata": {
        "id": "4uH_hKCCpIr0"
      },
      "source": [
        "## nn.ReLU\n",
        "\n",
        "Non-linear activation functions are what creates the complex mappings between the model's inputs and outputs. They are applied after linear transformations to introduce non-linearity.\n",
        "\n",
        "In this model, we use the `nn.ReLU` between our layers. There are other non-linear activation functions like `nn.Sigmoid` and `nn.Tanh`.\n",
        "\n",
        "Read more: [nn.ReLU](https://pytorch.org/docs/stable/generated/torch.nn.ReLU.html), [nn.Sigmoid](https://pytorch.org/docs/stable/generated/torch.nn.Sigmoid.html), [nn.Tanh](https://pytorch.org/docs/stable/generated/torch.nn.Tanh.html)"
      ]
    },
    {
      "cell_type": "code",
      "execution_count": null,
      "metadata": {
        "colab": {
          "base_uri": "https://localhost:8080/"
        },
        "id": "37f4kWoIoztq",
        "outputId": "648cc173-665e-4584-cdb3-1b35947fcfc6"
      },
      "outputs": [
        {
          "name": "stdout",
          "output_type": "stream",
          "text": [
            "Before ReLU: tensor([[-0.0719, -0.2445, -0.6022,  ...,  0.3872,  1.0010,  0.0453],\n",
            "        [-0.2120, -0.1619, -0.7970,  ...,  0.0897,  0.6388,  0.1026],\n",
            "        [-0.2407, -0.4716, -0.4279,  ...,  0.2648,  0.3774, -0.2786]],\n",
            "       grad_fn=<AddmmBackward0>)\n",
            "\n",
            "\n",
            "After ReLU: tensor([[0.0000, 0.0000, 0.0000,  ..., 0.3872, 1.0010, 0.0453],\n",
            "        [0.0000, 0.0000, 0.0000,  ..., 0.0897, 0.6388, 0.1026],\n",
            "        [0.0000, 0.0000, 0.0000,  ..., 0.2648, 0.3774, 0.0000]],\n",
            "       grad_fn=<ReluBackward0>)\n"
          ]
        }
      ],
      "source": [
        "print(f\"Before ReLU: {hidden1}\\n\\n\")\n",
        "relu = nn.ReLU()\n",
        "hidden1 = relu(hidden1)\n",
        "print(f\"After ReLU: {hidden1}\")\n",
        "\n",
        "# TODO: Notice what happened to the negative values in the input before they are passed through ReLU"
      ]
    },
    {
      "cell_type": "markdown",
      "metadata": {
        "id": "PRAoOyPjqqTg"
      },
      "source": [
        "## nn.Sequential\n",
        "\n",
        "`nn.Sequential` is an **ordered** container of modules. The data is passed through all the modules in the same order as they are defined.\n",
        "\n",
        "You can use sequential containers to put together a **block** containing many layers."
      ]
    },
    {
      "cell_type": "code",
      "execution_count": null,
      "metadata": {
        "colab": {
          "base_uri": "https://localhost:8080/"
        },
        "id": "q2OVqUf_qaQU",
        "outputId": "aa7ca1b0-b8bf-4934-d092-b1a164bb335b"
      },
      "outputs": [
        {
          "name": "stdout",
          "output_type": "stream",
          "text": [
            "Input mini batch: torch.Size([3, 28, 28])\n",
            "Logits: torch.Size([3, 10])\n"
          ]
        }
      ],
      "source": [
        "block1 = nn.Sequential(\n",
        "    nn.Flatten(),\n",
        "    nn.Linear(28 * 28, 512),\n",
        "    nn.ReLU(),\n",
        "    nn.Linear(512, 512),\n",
        "    nn.ReLU(),\n",
        "    nn.Linear(512, 10),\n",
        ")\n",
        "\n",
        "input_image = torch.rand(3, 28, 28)\n",
        "print(f\"Input mini batch: {input_image.size()}\")\n",
        "logits = block1(input_image)\n",
        "print(f\"Logits: {logits.size()}\")"
      ]
    },
    {
      "cell_type": "markdown",
      "metadata": {
        "id": "5gZyZOHcruCN"
      },
      "source": [
        "## nn.Softmax\n",
        "\n",
        "The last linear layer of the neural network returns logits. Logits are raw values in [-infty, +infty]. These logits are passed into the softmax module.\n",
        "\n",
        "Softmax scales the logits to [0, 1], representing the **model's predicted probabilities** for each class.\n",
        "\n",
        "`dim` parameter indicates the axis along which the values should sum to 1."
      ]
    },
    {
      "cell_type": "code",
      "execution_count": null,
      "metadata": {
        "colab": {
          "base_uri": "https://localhost:8080/"
        },
        "id": "NT1HMvWZrf6F",
        "outputId": "a2e02852-7080-4468-f4f5-12fdd2712d15"
      },
      "outputs": [
        {
          "name": "stdout",
          "output_type": "stream",
          "text": [
            "Logits\n",
            "tensor([[ 0.0392, -0.0208, -0.1409, -0.0785, -0.0511,  0.0301,  0.0485,  0.0512,\n",
            "         -0.0321,  0.0561],\n",
            "        [ 0.0423, -0.0090, -0.1551, -0.1121, -0.0761,  0.0696,  0.0715,  0.0168,\n",
            "         -0.0260,  0.0009],\n",
            "        [ 0.0373, -0.0219, -0.1215, -0.0368, -0.0728,  0.0113,  0.0498,  0.0391,\n",
            "         -0.0285, -0.0297]], grad_fn=<AddmmBackward0>)\n",
            "\n",
            "Predicted probabilities\n",
            "tensor([[0.1048, 0.0987, 0.0875, 0.0932, 0.0958, 0.1039, 0.1058, 0.1061, 0.0976,\n",
            "         0.1066],\n",
            "        [0.1059, 0.1006, 0.0869, 0.0908, 0.0941, 0.1088, 0.1091, 0.1032, 0.0989,\n",
            "         0.1016],\n",
            "        [0.1055, 0.0994, 0.0900, 0.0979, 0.0945, 0.1028, 0.1068, 0.1057, 0.0988,\n",
            "         0.0986]], grad_fn=<SoftmaxBackward0>)\n"
          ]
        }
      ],
      "source": [
        "softmax = nn.Softmax(dim=1)\n",
        "pred_probabilities = softmax(logits)\n",
        "print(f\"Logits\\n{logits}\\n\")\n",
        "print(f\"Predicted probabilities\\n{pred_probabilities}\")"
      ]
    },
    {
      "cell_type": "markdown",
      "metadata": {
        "id": "NNvcI0Du3U6F"
      },
      "source": [
        "## Mini Challenge\n",
        "\n",
        "![image](https://github.com/ntu-dl-bootcamp/deep-learning-2025/raw/main/SESSION2/mini-challenge-session-2.png)\n",
        "\n",
        "1. Implement the neural network shown in the image above using Pytorch.\n",
        "2. Train this neural network using suitable hyper parameters\n",
        "3. Compare the performance of this new neural network with the one before."
      ]
    },
    {
      "cell_type": "markdown",
      "metadata": {
        "id": "mQkd3ymes7de"
      },
      "source": [
        "## Model parameters\n",
        "\n",
        "Many layers inside a neural network are parameterised. This means that they have associated weights and biases that are optimised during training.\n",
        "\n",
        "`nn.Module` tracks all the parameters inside a model object. This can be accessed using the model's `parameters()` and `named_parameters()` methods."
      ]
    },
    {
      "cell_type": "code",
      "execution_count": null,
      "metadata": {
        "colab": {
          "base_uri": "https://localhost:8080/"
        },
        "id": "N3O_i67KtgiB",
        "outputId": "728ee7c5-5c71-461a-bf8a-83d6658bc794"
      },
      "outputs": [
        {
          "name": "stdout",
          "output_type": "stream",
          "text": [
            "Model structure: NeuralNetwork(\n",
            "  (flatten): Flatten(start_dim=1, end_dim=-1)\n",
            "  (linear_relu_stack): Sequential(\n",
            "    (0): Linear(in_features=784, out_features=512, bias=True)\n",
            "    (1): ReLU()\n",
            "    (2): Linear(in_features=512, out_features=512, bias=True)\n",
            "    (3): ReLU()\n",
            "    (4): Linear(in_features=512, out_features=10, bias=True)\n",
            "  )\n",
            ")\n",
            "\n",
            "\n"
          ]
        }
      ],
      "source": [
        "print(f\"Model structure: {model}\\n\\n\")"
      ]
    },
    {
      "cell_type": "code",
      "execution_count": null,
      "metadata": {
        "colab": {
          "base_uri": "https://localhost:8080/"
        },
        "id": "T_hbJ8tlsgaT",
        "outputId": "646e23d4-1a97-4c51-8d2e-9f4bcc66f868"
      },
      "outputs": [
        {
          "name": "stdout",
          "output_type": "stream",
          "text": [
            "Layer: linear_relu_stack.0.weight | Size: torch.Size([512, 784]) | Values : tensor([[-0.0226, -0.0274,  0.0055,  ..., -0.0342, -0.0107,  0.0145],\n",
            "        [-0.0290, -0.0258,  0.0072,  ...,  0.0328,  0.0231,  0.0225]],\n",
            "       grad_fn=<SliceBackward0>) \n",
            "\n",
            "Layer: linear_relu_stack.0.bias | Size: torch.Size([512]) | Values : tensor([ 0.0256, -0.0135], grad_fn=<SliceBackward0>) \n",
            "\n",
            "Layer: linear_relu_stack.2.weight | Size: torch.Size([512, 512]) | Values : tensor([[-0.0016,  0.0280, -0.0433,  ...,  0.0249, -0.0177,  0.0295],\n",
            "        [ 0.0430, -0.0235, -0.0181,  ..., -0.0234,  0.0365, -0.0255]],\n",
            "       grad_fn=<SliceBackward0>) \n",
            "\n",
            "Layer: linear_relu_stack.2.bias | Size: torch.Size([512]) | Values : tensor([-0.0365, -0.0242], grad_fn=<SliceBackward0>) \n",
            "\n",
            "Layer: linear_relu_stack.4.weight | Size: torch.Size([10, 512]) | Values : tensor([[ 0.0158,  0.0212, -0.0124,  ...,  0.0249, -0.0069, -0.0068],\n",
            "        [-0.0048,  0.0417,  0.0206,  ...,  0.0163,  0.0324,  0.0302]],\n",
            "       grad_fn=<SliceBackward0>) \n",
            "\n",
            "Layer: linear_relu_stack.4.bias | Size: torch.Size([10]) | Values : tensor([-0.0269,  0.0435], grad_fn=<SliceBackward0>) \n",
            "\n"
          ]
        }
      ],
      "source": [
        "for name, param in model.named_parameters():\n",
        "    print(f\"Layer: {name} | Size: {param.size()} | Values : {param[:2]} \\n\")"
      ]
    },
    {
      "cell_type": "markdown",
      "metadata": {
        "id": "xIxBFWs0uAER"
      },
      "source": [
        "# Optimising the model's parameters\n",
        "\n",
        "We now have a model and the data to train the model. We can train, validate and test our model by optimising the parameters on our data.\n",
        "\n",
        "Training a model is an iterative process. In each iteration,\n",
        "1. the model makes a guess about the output\n",
        "2. calculates the error in the guess (the loss)\n",
        "3. collects the derivatives of the error with respect to the parameters\n",
        "4. optimises these paramters using gradient descent.\n",
        "\n",
        "## Hyperparameters\n",
        "\n",
        "Hyperparameters are adjustable parameters that lets us control the optimisation process. Hyperparameter values can impact the model training and convergence rates.\n",
        "\n",
        "We can define these hyperparameters for training our model:\n",
        "1. **Number of epochs** - number of times to iterate over our training set.\n",
        "2. **Batch size** - number of input samples propagated through the network before the model parameters are updated.\n",
        "3. **Learning rate** - how much to update the models parameters at each batch / epoch. Smaller values yield slow learning speed, while large values may result in unpredictable behavior during training."
      ]
    },
    {
      "cell_type": "code",
      "execution_count": null,
      "metadata": {
        "id": "rgzqm7J0teHU"
      },
      "outputs": [],
      "source": [
        "learning_rate = 1e-3\n",
        "batch_size = 64\n",
        "epochs = 5"
      ]
    },
    {
      "cell_type": "markdown",
      "metadata": {
        "id": "16v62WF2vvUB"
      },
      "source": [
        "## Optimisation loop\n",
        "Using these hyperparamters, we can train and optimise the paramters of our model with an optimisation loop. Each iteration of the optimisation loop is called as an **epoch**.\n",
        "\n",
        "Each epoch has two parts\n",
        "1. Iterate over the training loop and update the parameters\n",
        "2. Iterate over the test / validation loop and check if the model's performance is improving.\n",
        "\n",
        "Two important concepts used in the training loop are the loss function and the optimizer."
      ]
    },
    {
      "cell_type": "markdown",
      "metadata": {
        "id": "vp1EmysNw0_V"
      },
      "source": [
        "# Loss function\n",
        "\n",
        "When presented with some training data, our **untrained network** is likely not to give the correct answer.\n",
        "\n",
        "Loss function measures the **degree of dissimilarity of obtained result to the target value**, and it is the loss function that we want to **minimize** during training.\n",
        "\n",
        "To calculate the loss we make a prediction using the inputs of our given data sample and compare it against the true data label value.\n",
        "\n",
        "Common loss functions\n",
        "1. [nn.MSELoss](https://pytorch.org/docs/stable/generated/torch.nn.MSELoss.html#torch.nn.MSELoss) (Mean Square Error) for regression tasks\n",
        "2. [nn.NLLLoss](https://pytorch.org/docs/stable/generated/torch.nn.NLLLoss.html#torch.nn.NLLLoss) (Negative Log Likelihood) for classification\n",
        "3. [nn.CrossEntropyLoss](https://pytorch.org/docs/stable/generated/torch.nn.CrossEntropyLoss.html#torch.nn.CrossEntropyLoss) combines `nn.LogSoftmax` and `nn.NLLLoss`.\n",
        "\n",
        "We will use the Cross Entropy Loss, which will normalise the logits and compute the prediction error."
      ]
    },
    {
      "cell_type": "code",
      "execution_count": null,
      "metadata": {
        "id": "uCwdivyPvtU-"
      },
      "outputs": [],
      "source": [
        "# initialise the loss function\n",
        "loss_fn = nn.CrossEntropyLoss()"
      ]
    },
    {
      "cell_type": "markdown",
      "metadata": {
        "id": "KUTADFRRyDPh"
      },
      "source": [
        "## Optimiser\n",
        "\n",
        "Optimization is the process of **adjusting model parameters to reduce model error in each training step**.\n",
        "\n",
        "Optimization algorithms define how this process is performed (in this example we use Stochastic Gradient Descent).\n",
        "\n",
        "All optimization logic is encapsulated in the optimizer object. Here, we use the SGD optimizer; additionally, there are many different optimizers available in PyTorch such as ADAM and RMSProp, that work better for different kinds of models and data.\n",
        "\n",
        "We initialize the optimizer by **registering the model’s parameters** that need to be trained, and passing in the **learning rate hyperparameter**."
      ]
    },
    {
      "cell_type": "code",
      "execution_count": null,
      "metadata": {
        "id": "PVZHgyi1x96X"
      },
      "outputs": [],
      "source": [
        "optimizer = torch.optim.SGD(model.parameters(), lr=learning_rate)"
      ]
    },
    {
      "cell_type": "markdown",
      "metadata": {
        "id": "9eP1Jmy_ygVu"
      },
      "source": [
        "Inside the training loop, optimization happens in three steps:\n",
        "\n",
        "1. Call optimizer.zero_grad() to **reset the gradients of model parameters**. Gradients by default add up; to prevent double-counting, we explicitly zero them at each iteration.\n",
        "\n",
        "2. **Backpropagate the prediction loss** with a call to loss.backward(). PyTorch deposits the gradients of the loss w.r.t. each parameter.\n",
        "\n",
        "3. Once we have our gradients, we call optimizer.step() to **adjust the parameters** by the gradients collected in the backward pass."
      ]
    },
    {
      "cell_type": "markdown",
      "metadata": {
        "id": "Va8teUI_yv3P"
      },
      "source": [
        "## Full training loop"
      ]
    },
    {
      "cell_type": "code",
      "execution_count": null,
      "metadata": {
        "id": "k0vXWA8nyZ0D"
      },
      "outputs": [],
      "source": [
        "def train_loop(dataloader, model, loss_fn, optimizer):\n",
        "    size = len(dataloader.dataset)\n",
        "    # set the model to training mode\n",
        "    model.train()\n",
        "\n",
        "    for batch, (X, y) in enumerate(dataloader):\n",
        "        X, y = X.to(device), y.to(device)\n",
        "\n",
        "        # Compute the prediction and loss\n",
        "        pred = model(X)\n",
        "        loss = loss_fn(pred, y)\n",
        "\n",
        "        # Backpropagation\n",
        "        loss.backward()\n",
        "        optimizer.step()\n",
        "        optimizer.zero_grad()\n",
        "\n",
        "        if batch % 100 == 0:\n",
        "            loss, current = loss.item(), batch * batch_size + len(X)\n",
        "            print(f\"loss: {loss:>7f}  [{current:>5d}/{size:>5d}]\")"
      ]
    },
    {
      "cell_type": "markdown",
      "metadata": {
        "id": "J2GpV7NVzYGd"
      },
      "source": [
        "## Full testing loop"
      ]
    },
    {
      "cell_type": "code",
      "execution_count": null,
      "metadata": {
        "id": "qB4TaHEKzVvu"
      },
      "outputs": [],
      "source": [
        "def test_loop(dataloader, model, loss_fn):\n",
        "    # Set the model to evaluation mode - important for batch normalisation and dropout layers\n",
        "    # Unnecessary in this situation but added for best practices\n",
        "    model.eval()\n",
        "    size = len(dataloader.dataset)\n",
        "    num_batches = len(dataloader)\n",
        "    test_loss, correct = 0, 0\n",
        "\n",
        "    # Evaluating the model with torch.no_grad() ensures that no gradients are computed during test mode\n",
        "    # also serves to reduce unnecessary gradient computations and memory usage for tensors with requires_grad=True\n",
        "    with torch.no_grad():\n",
        "        for X, y in dataloader:\n",
        "            X, y = X.to(device), y.to(device)\n",
        "            pred = model(X)\n",
        "            test_loss += loss_fn(pred, y).item()\n",
        "            correct += (pred.argmax(1) == y).type(torch.float).sum().item()\n",
        "\n",
        "    test_loss /= num_batches\n",
        "    correct /= size\n",
        "    print(\n",
        "        f\"Test Error: \\n Accuracy: {(100*correct):>0.1f}%, Avg loss: {test_loss:>8f} \\n\"\n",
        "    )"
      ]
    },
    {
      "cell_type": "markdown",
      "metadata": {
        "id": "O2w54rd80AXO"
      },
      "source": [
        "We initialize the loss function and optimizer, and pass it to train_loop and test_loop. Feel free to increase the number of epochs to track the model’s improving performance."
      ]
    },
    {
      "cell_type": "code",
      "execution_count": null,
      "metadata": {
        "colab": {
          "base_uri": "https://localhost:8080/"
        },
        "id": "2xJvDE0Ez69a",
        "outputId": "2cc58c97-0e6a-4977-e3cb-b8706fe06a1f"
      },
      "outputs": [
        {
          "name": "stdout",
          "output_type": "stream",
          "text": [
            "Epoch 1\n",
            "-------------------------------\n",
            "loss: 2.300085  [   64/60000]\n",
            "loss: 2.292223  [ 6464/60000]\n",
            "loss: 2.294612  [12864/60000]\n",
            "loss: 2.283162  [19264/60000]\n",
            "loss: 2.279641  [25664/60000]\n",
            "loss: 2.282388  [32064/60000]\n",
            "loss: 2.272002  [38464/60000]\n",
            "loss: 2.273226  [44864/60000]\n",
            "loss: 2.253159  [51264/60000]\n",
            "loss: 2.254613  [57664/60000]\n",
            "Test Error: \n",
            " Accuracy: 42.3%, Avg loss: 2.251972 \n",
            "\n",
            "Epoch 2\n",
            "-------------------------------\n",
            "loss: 2.245827  [   64/60000]\n",
            "loss: 2.235991  [ 6464/60000]\n",
            "loss: 2.247810  [12864/60000]\n",
            "loss: 2.227066  [19264/60000]\n",
            "loss: 2.221572  [25664/60000]\n",
            "loss: 2.218985  [32064/60000]\n",
            "loss: 2.211084  [38464/60000]\n",
            "loss: 2.212244  [44864/60000]\n",
            "loss: 2.221478  [51264/60000]\n",
            "loss: 2.179286  [57664/60000]\n",
            "Test Error: \n",
            " Accuracy: 56.8%, Avg loss: 2.185574 \n",
            "\n",
            "Epoch 3\n",
            "-------------------------------\n",
            "loss: 2.170178  [   64/60000]\n",
            "loss: 2.178241  [ 6464/60000]\n",
            "loss: 2.150765  [12864/60000]\n",
            "loss: 2.124737  [19264/60000]\n",
            "loss: 2.152570  [25664/60000]\n",
            "loss: 2.144791  [32064/60000]\n",
            "loss: 2.120190  [38464/60000]\n",
            "loss: 2.105145  [44864/60000]\n",
            "loss: 2.076928  [51264/60000]\n",
            "loss: 2.076045  [57664/60000]\n",
            "Test Error: \n",
            " Accuracy: 63.0%, Avg loss: 2.069895 \n",
            "\n",
            "Epoch 4\n",
            "-------------------------------\n",
            "loss: 2.064329  [   64/60000]\n",
            "loss: 2.057597  [ 6464/60000]\n",
            "loss: 2.038524  [12864/60000]\n",
            "loss: 1.974392  [19264/60000]\n",
            "loss: 2.020957  [25664/60000]\n",
            "loss: 1.987805  [32064/60000]\n",
            "loss: 1.882518  [38464/60000]\n",
            "loss: 1.968383  [44864/60000]\n",
            "loss: 1.877202  [51264/60000]\n",
            "loss: 1.885270  [57664/60000]\n",
            "Test Error: \n",
            " Accuracy: 69.3%, Avg loss: 1.872174 \n",
            "\n",
            "Epoch 5\n",
            "-------------------------------\n",
            "loss: 1.820463  [   64/60000]\n",
            "loss: 1.846708  [ 6464/60000]\n",
            "loss: 1.837087  [12864/60000]\n",
            "loss: 1.757153  [19264/60000]\n",
            "loss: 1.713511  [25664/60000]\n",
            "loss: 1.662237  [32064/60000]\n",
            "loss: 1.732018  [38464/60000]\n",
            "loss: 1.663088  [44864/60000]\n",
            "loss: 1.622883  [51264/60000]\n",
            "loss: 1.549651  [57664/60000]\n",
            "Test Error: \n",
            " Accuracy: 74.3%, Avg loss: 1.579702 \n",
            "\n",
            "Epoch 6\n",
            "-------------------------------\n",
            "loss: 1.481672  [   64/60000]\n",
            "loss: 1.621238  [ 6464/60000]\n",
            "loss: 1.566664  [12864/60000]\n",
            "loss: 1.403534  [19264/60000]\n",
            "loss: 1.475005  [25664/60000]\n",
            "loss: 1.438483  [32064/60000]\n",
            "loss: 1.452724  [38464/60000]\n",
            "loss: 1.299031  [44864/60000]\n",
            "loss: 1.393918  [51264/60000]\n",
            "loss: 1.243907  [57664/60000]\n",
            "Test Error: \n",
            " Accuracy: 78.0%, Avg loss: 1.258843 \n",
            "\n",
            "Epoch 7\n",
            "-------------------------------\n",
            "loss: 1.225866  [   64/60000]\n",
            "loss: 1.244359  [ 6464/60000]\n",
            "loss: 1.296411  [12864/60000]\n",
            "loss: 1.201280  [19264/60000]\n",
            "loss: 1.221399  [25664/60000]\n",
            "loss: 1.128611  [32064/60000]\n",
            "loss: 1.055395  [38464/60000]\n",
            "loss: 0.969901  [44864/60000]\n",
            "loss: 0.938652  [51264/60000]\n",
            "loss: 0.955977  [57664/60000]\n",
            "Test Error: \n",
            " Accuracy: 80.2%, Avg loss: 1.001407 \n",
            "\n",
            "Epoch 8\n",
            "-------------------------------\n",
            "loss: 1.055537  [   64/60000]\n",
            "loss: 0.964503  [ 6464/60000]\n",
            "loss: 0.974892  [12864/60000]\n",
            "loss: 0.847950  [19264/60000]\n",
            "loss: 0.947378  [25664/60000]\n",
            "loss: 1.056584  [32064/60000]\n",
            "loss: 0.746905  [38464/60000]\n",
            "loss: 0.950663  [44864/60000]\n",
            "loss: 0.907195  [51264/60000]\n",
            "loss: 0.803613  [57664/60000]\n",
            "Test Error: \n",
            " Accuracy: 82.0%, Avg loss: 0.828166 \n",
            "\n",
            "Epoch 9\n",
            "-------------------------------\n",
            "loss: 0.955183  [   64/60000]\n",
            "loss: 0.607666  [ 6464/60000]\n",
            "loss: 0.780492  [12864/60000]\n",
            "loss: 0.751392  [19264/60000]\n",
            "loss: 0.785876  [25664/60000]\n",
            "loss: 0.871002  [32064/60000]\n",
            "loss: 0.695686  [38464/60000]\n",
            "loss: 0.846741  [44864/60000]\n",
            "loss: 0.687934  [51264/60000]\n",
            "loss: 0.774802  [57664/60000]\n",
            "Test Error: \n",
            " Accuracy: 83.2%, Avg loss: 0.713437 \n",
            "\n",
            "Epoch 10\n",
            "-------------------------------\n",
            "loss: 0.733391  [   64/60000]\n",
            "loss: 0.817433  [ 6464/60000]\n",
            "loss: 0.717490  [12864/60000]\n",
            "loss: 0.649851  [19264/60000]\n",
            "loss: 0.942781  [25664/60000]\n",
            "loss: 0.616911  [32064/60000]\n",
            "loss: 0.654127  [38464/60000]\n",
            "loss: 0.687844  [44864/60000]\n",
            "loss: 0.584430  [51264/60000]\n",
            "loss: 0.564867  [57664/60000]\n",
            "Test Error: \n",
            " Accuracy: 84.5%, Avg loss: 0.634853 \n",
            "\n",
            "Done!\n"
          ]
        }
      ],
      "source": [
        "loss_fn = nn.CrossEntropyLoss()\n",
        "optimizer = torch.optim.SGD(model.parameters(), lr=learning_rate)\n",
        "\n",
        "epochs = 10\n",
        "for t in range(epochs):\n",
        "    print(f\"Epoch {t+1}\\n-------------------------------\")\n",
        "    train_loop(train_dataloader, model, loss_fn, optimizer)\n",
        "    test_loop(test_dataloader, model, loss_fn)\n",
        "print(\"Done!\")"
      ]
    },
    {
      "cell_type": "code",
      "execution_count": null,
      "metadata": {
        "colab": {
          "base_uri": "https://localhost:8080/",
          "height": 484
        },
        "id": "YaiHC_ee0Mxw",
        "outputId": "56d0e4f9-9507-4c57-9e9a-3c20176329b0"
      },
      "outputs": [
        {
          "data": {
            "image/png": "[encoded data removed]",
            "text/plain": [
              "<Figure size 640x480 with 1 Axes>"
            ]
          },
          "metadata": {},
          "output_type": "display_data"
        },
        {
          "name": "stdout",
          "output_type": "stream",
          "text": [
            "Label: 4\n",
            "\n",
            "Predicted class: tensor([4])\n"
          ]
        }
      ],
      "source": [
        "img, label = training_data[20]\n",
        "\n",
        "plt.imshow(img.squeeze(), cmap=\"gray\")\n",
        "plt.show()\n",
        "print(f\"Label: {label}\\n\")\n",
        "\n",
        "img = img.to(device)\n",
        "logits = model(img)\n",
        "predicted_probabilities = nn.Softmax(dim=1)(logits)\n",
        "predicted_class = torch.argmax(predicted_probabilities, dim=1)\n",
        "print(f\"Predicted class: {predicted_class}\")"
      ]
    },
    {
      "cell_type": "markdown",
      "metadata": {
        "id": "W-0zo4un1oGq"
      },
      "source": [
        "# Save and load the model\n",
        "\n",
        "PyTorch models store the learned parameters in an internal state dictionary, called state_dict. **These can be saved using the torch.save method.**"
      ]
    },
    {
      "cell_type": "code",
      "execution_count": null,
      "metadata": {
        "id": "BEisYOlX1ewU"
      },
      "outputs": [],
      "source": [
        "torch.save(model.state_dict(), \"model_weights.pth\")"
      ]
    },
    {
      "cell_type": "markdown",
      "metadata": {
        "id": "gPMoBfgc18Nd"
      },
      "source": [
        "To load model weights, you need to create an instance of the same model first, and then load the parameters using `load_state_dict()` method."
      ]
    },
    {
      "cell_type": "code",
      "execution_count": null,
      "metadata": {
        "colab": {
          "base_uri": "https://localhost:8080/"
        },
        "id": "jsM4JHMy13oH",
        "outputId": "4c8a287c-bed1-4dd2-88cd-8de095157719"
      },
      "outputs": [
        {
          "name": "stderr",
          "output_type": "stream",
          "text": [
            "<ipython-input-110-3e20348b5a1b>:3: FutureWarning: You are using `torch.load` with `weights_only=False` (the current default value), which uses the default pickle module implicitly. It is possible to construct malicious pickle data which will execute arbitrary code during unpickling (See https://github.com/pytorch/pytorch/blob/main/SECURITY.md#untrusted-models for more details). In a future release, the default value for `weights_only` will be flipped to `True`. This limits the functions that could be executed during unpickling. Arbitrary objects will no longer be allowed to be loaded via this mode unless they are explicitly allowlisted by the user via `torch.serialization.add_safe_globals`. We recommend you start setting `weights_only=True` for any use case where you don't have full control of the loaded file. Please open an issue on GitHub for any issues related to this experimental feature.\n",
            "  model_new.load_state_dict(torch.load('model_weights.pth'))\n"
          ]
        },
        {
          "data": {
            "text/plain": [
              "<All keys matched successfully>"
            ]
          },
          "execution_count": 110,
          "metadata": {},
          "output_type": "execute_result"
        }
      ],
      "source": [
        "model_new = NeuralNetwork().to(device)\n",
        "\n",
        "model_new.load_state_dict(torch.load(\"model_weights.pth\"))"
      ]
    },
    {
      "cell_type": "code",
      "execution_count": null,
      "metadata": {
        "colab": {
          "base_uri": "https://localhost:8080/",
          "height": 484
        },
        "id": "kARmbf6s2LWJ",
        "outputId": "09a37dc3-7a40-436d-e95d-50c02d3c2040"
      },
      "outputs": [
        {
          "data": {
            "image/png": "[encoded data removed]",
            "text/plain": [
              "<Figure size 640x480 with 1 Axes>"
            ]
          },
          "metadata": {},
          "output_type": "display_data"
        },
        {
          "name": "stdout",
          "output_type": "stream",
          "text": [
            "Label: 4\n",
            "\n",
            "Predicted class: tensor([4])\n"
          ]
        }
      ],
      "source": [
        "# Testing the newly loaded model, `model_new`\n",
        "\n",
        "img, label = training_data[20]\n",
        "\n",
        "plt.imshow(img.squeeze(), cmap=\"gray\")\n",
        "plt.show()\n",
        "print(f\"Label: {label}\\n\")\n",
        "\n",
        "img = img.to(device)\n",
        "logits = model_new(img)\n",
        "predicted_probabilities = nn.Softmax(dim=1)(logits)\n",
        "predicted_class = torch.argmax(predicted_probabilities, dim=1)\n",
        "print(f\"Predicted class: {predicted_class}\")"
      ]
    },
    {
      "cell_type": "markdown",
      "metadata": {
        "id": "TCKMg_VuDY1M"
      },
      "source": [
        "# Recommended Reading and Other Resources\n",
        "1. [What is torch.nn really?](https://pytorch.org/tutorials/beginner/nn_tutorial.html)\n",
        "2. [PyTorch Beginner Series](https://www.youtube.com/playlist?list=PL_lsbAsL_o2CTlGHgMxNrKhzP97BaG9ZN)\n",
        "\n",
        "This notebook is based on [Learn the Basics](https://pytorch.org/tutorials/beginner/basics/intro.html)"
      ]
    }
  ],
  "metadata": {
    "colab": {
      "provenance": []
    },
    "kernelspec": {
      "display_name": "Python 3",
      "name": "python3"
    },
    "language_info": {
      "name": "python"
    }
  },
  "nbformat": 4,
  "nbformat_minor": 0
}
