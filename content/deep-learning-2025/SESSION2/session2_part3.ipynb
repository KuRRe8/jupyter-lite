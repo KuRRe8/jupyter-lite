{
  "cells": [
    {
      "cell_type": "markdown",
      "metadata": {
        "id": "fgA4-lbqtGQ1"
      },
      "source": [
        "<a href=\"https://colab.research.google.com/github/ntu-dl-bootcamp/deep-learning-2024/blob/main/session2/session2.ipynb\" target=\"_blank\"><img alt=\"Open In Colab\" src=\"https://colab.research.google.com/assets/colab-badge.svg\"/></a>"
      ]
    },
    {
      "cell_type": "markdown",
      "source": [
        "#Challenge - House Price Prediction Using Neural Network\n",
        "\n",
        "Using the concepts learnt in the session so far, try to solve a classic regression problem - predicting the price of a house based on its features!\n",
        "\n",
        "You can take the help of parts 1 and 2 of the notebook wherever necessary."
      ],
      "metadata": {
        "id": "drR7rvGbKxM2"
      }
    },
    {
      "cell_type": "markdown",
      "source": [
        "### Imports"
      ],
      "metadata": {
        "id": "8ReAPuJw4c4l"
      }
    },
    {
      "cell_type": "code",
      "source": [
        "import torch\n",
        "from torch.utils.data import Dataset, DataLoader\n",
        "import pandas as pd\n",
        "from torch import nn"
      ],
      "metadata": {
        "id": "C7rkN71N4iKy"
      },
      "execution_count": null,
      "outputs": []
    },
    {
      "cell_type": "markdown",
      "source": [
        "### Set device"
      ],
      "metadata": {
        "id": "_Wxdp8Wt4lk0"
      }
    },
    {
      "cell_type": "code",
      "source": [
        "DEVICE = \"cuda\" if torch.cuda.is_available() else \"cpu\"\n",
        "print(DEVICE)"
      ],
      "metadata": {
        "id": "bSMAzPH14pgD"
      },
      "execution_count": null,
      "outputs": []
    },
    {
      "cell_type": "markdown",
      "source": [
        "## Challenge 1: Dataset and DataLoader"
      ],
      "metadata": {
        "id": "zOZ-jPOGTZ0t"
      }
    },
    {
      "cell_type": "markdown",
      "source": [
        "### Loading Data"
      ],
      "metadata": {
        "id": "BbPqnuqd4vmL"
      }
    },
    {
      "cell_type": "code",
      "source": [
        "from sklearn.datasets import fetch_california_housing\n",
        "from sklearn.model_selection import train_test_split\n",
        "\n",
        "housing_data = fetch_california_housing()\n",
        "# print(housing_data)\n",
        "print(\"Number of Features: \", len(housing_data.data[0]))\n",
        "print(\"Number of Data Samples: \", len(housing_data.data))"
      ],
      "metadata": {
        "colab": {
          "base_uri": "https://localhost:8080/"
        },
        "id": "oKwhPz1zEN1i",
        "outputId": "646c605f-1dce-4e63-a7b9-30e3f52ca913"
      },
      "execution_count": 3,
      "outputs": [
        {
          "output_type": "stream",
          "name": "stdout",
          "text": [
            "Number of Features:  8\n",
            "Number of Data Samples:  20640\n"
          ]
        }
      ]
    },
    {
      "cell_type": "markdown",
      "source": [
        "### Complete Custom Dataset Class"
      ],
      "metadata": {
        "id": "kcF0myiF40Cb"
      }
    },
    {
      "cell_type": "code",
      "source": [
        "# Refer: https://pytorch.org/tutorials/beginner/data_loading_tutorial.html\n",
        "\n",
        "class CustomDataset(Dataset):\n",
        "    def __init__(self, data_source):\n",
        "        self.data_source =data_source\n",
        "        self.features = torch.tensor(self.data_source.data, dtype=torch.float32)\n",
        "        self.labels = torch.tensor(self.data_source.target, dtype=torch.float32)\n",
        "\n",
        "\n",
        "    def __len__(self):\n",
        "        return len(self.data_source.data)\n",
        "\n",
        "    def __getitem__(self, idx):\n",
        "        feature, label = ...  # Use idx (index) to reference each input row in the dataset\n",
        "        return feature, label\n"
      ],
      "metadata": {
        "id": "zNNqLOmFKwk3"
      },
      "execution_count": null,
      "outputs": []
    },
    {
      "cell_type": "markdown",
      "source": [
        "### Specify the batch_size"
      ],
      "metadata": {
        "id": "mtFD7pcf48ER"
      }
    },
    {
      "cell_type": "code",
      "source": [
        "batch_size = ..."
      ],
      "metadata": {
        "id": "KKVPf-cJSGS9"
      },
      "execution_count": null,
      "outputs": []
    },
    {
      "cell_type": "markdown",
      "source": [
        "### Declare Custom Dataset Class Object"
      ],
      "metadata": {
        "id": "fRdb_HDS5AYL"
      }
    },
    {
      "cell_type": "code",
      "source": [
        "custom_dataset = ..."
      ],
      "metadata": {
        "id": "zvQO8WGeRlRs"
      },
      "execution_count": null,
      "outputs": []
    },
    {
      "cell_type": "markdown",
      "source": [
        "### Split the dataset into train and test"
      ],
      "metadata": {
        "id": "x_Fp7OBx5FLk"
      }
    },
    {
      "cell_type": "code",
      "source": [
        "split_ratio =...\n",
        "train_size = int(split_ratio * len(custom_dataset))\n",
        "test_size = len(custom_dataset) - train_size\n",
        "\n",
        "#Refer to torch.utils.data.random_split() in https://pytorch.org/docs/stable/data.html\n",
        "\n",
        "housing_train_dataset, housing_test_dataset = ...\n",
        "\n",
        "print(len(housing_train_dataset))\n",
        "print(len(housing_test_dataset))\n"
      ],
      "metadata": {
        "id": "LMpeO5g4NUiR"
      },
      "execution_count": null,
      "outputs": []
    },
    {
      "cell_type": "markdown",
      "source": [
        "### Intialize the data loader"
      ],
      "metadata": {
        "id": "2ZjSSujd5I0W"
      }
    },
    {
      "cell_type": "code",
      "source": [
        "train_housing_data_loader = ...\n",
        "test_housing_data_loader = ..."
      ],
      "metadata": {
        "id": "R6kaEuuFS20V"
      },
      "execution_count": null,
      "outputs": []
    },
    {
      "cell_type": "markdown",
      "source": [
        "### Execute the below code to check Dataloader  - Try changing the batch_size!"
      ],
      "metadata": {
        "id": "_FKEaWPH5MBf"
      }
    },
    {
      "cell_type": "code",
      "source": [
        "for  id, batch_data in enumerate(train_housing_data_loader):\n",
        "\n",
        "    batch_features, batch_labels = batch_data[0], batch_data[1]\n",
        "    print(\"batch_features: \",  batch_features)\n",
        "    print(\"batch_labels: \", batch_labels)\n",
        "\n",
        "    break"
      ],
      "metadata": {
        "id": "FpGJHLUESbkW"
      },
      "execution_count": null,
      "outputs": []
    },
    {
      "cell_type": "markdown",
      "source": [
        "## Challenge 2: Building Neural Network"
      ],
      "metadata": {
        "id": "nQ9Wx42GTscs"
      }
    },
    {
      "cell_type": "markdown",
      "source": [
        "### Complete Code for NeuralNetwork class below"
      ],
      "metadata": {
        "id": "3P2QtNqx5QlK"
      }
    },
    {
      "cell_type": "code",
      "source": [
        "class HousingNueralNetwork(nn.Module): # Inherit from nn.Module\n",
        "    def __init__(self):\n",
        "        super().__init__()\n",
        "\n",
        "\n",
        "        # Define a sequential container of layers in network\n",
        "        #You are free to choose number of layers and number of neurons in each layer\n",
        "        self.layer_stack = nn.Sequential(\n",
        "            nn.Linear(8, ...), # number of neuron in first layer depend upon number of features\n",
        "            ....\n",
        "            nn.Linear(..., 1) # 1 neuron  in the output\n",
        "        )\n",
        "\n",
        "    def forward(self, x):\n",
        "\n",
        "        output = ... # call layer_stack\n",
        "        return output\n",
        "\n",
        "#Create Object of HousingNueralNetwork class\n",
        "housing_model = ...\n",
        "\n",
        "#Send model to DEVICE\n",
        "housing_model = ...\n",
        "\n",
        "#print model\n",
        "print(housing_model)\n",
        "\n"
      ],
      "metadata": {
        "id": "vnapUV5sT2lM"
      },
      "execution_count": null,
      "outputs": []
    },
    {
      "cell_type": "markdown",
      "source": [
        "## Challenge 3 - Network Training"
      ],
      "metadata": {
        "id": "bRrVymyXW_k9"
      }
    },
    {
      "cell_type": "markdown",
      "source": [
        "### Specify Hyperparameter - learning rate and number of epochs"
      ],
      "metadata": {
        "id": "QpRYMzjE5UpK"
      }
    },
    {
      "cell_type": "code",
      "source": [
        "learning_rate = ... # Try different values like 0.01 , 0.002. etc\n",
        "epochs = ..."
      ],
      "metadata": {
        "id": "cgNWCgkdT2a4"
      },
      "execution_count": null,
      "outputs": []
    },
    {
      "cell_type": "markdown",
      "source": [
        "### Specify the loss function"
      ],
      "metadata": {
        "id": "ZI4MrmyI5l17"
      }
    },
    {
      "cell_type": "code",
      "source": [
        "housing_loss_fn = ..."
      ],
      "metadata": {
        "id": "u8ZDv3LkT2X0"
      },
      "execution_count": null,
      "outputs": []
    },
    {
      "cell_type": "markdown",
      "source": [
        "### Specify Optimizer"
      ],
      "metadata": {
        "id": "Lf4uNXQa5izw"
      }
    },
    {
      "cell_type": "code",
      "source": [
        "housing_optimizer =  ...."
      ],
      "metadata": {
        "id": "XCKiRvkzYGeE"
      },
      "execution_count": null,
      "outputs": []
    },
    {
      "cell_type": "markdown",
      "source": [
        "### Complete code for Train loop"
      ],
      "metadata": {
        "id": "mVWOXQAD5fm4"
      }
    },
    {
      "cell_type": "code",
      "source": [
        "def housing_train_loop(dataloader, model, loss_fn, optimizer):\n",
        "    size = len(dataloader.dataset)\n",
        "    # Set the model to training mode - important for batch normalization and dropout layers\n",
        "    # Unnecessary in this situation but added for best practices\n",
        "    model.train()\n",
        "    loss = 0\n",
        "    for batch, (X, y) in enumerate(dataloader):\n",
        "        #Transfer X and y to DEVICE\n",
        "        X=...\n",
        "        y=...\n",
        "        # Compute prediction and loss\n",
        "        pred =...\n",
        "        loss = ...\n",
        "\n",
        "\n",
        "        # set gradients to zero\n",
        "        ...\n",
        "\n",
        "        # Backpropagation of loss\n",
        "        ...\n",
        "\n",
        "        #Update weights\n",
        "        ...\n",
        "\n",
        "\n",
        "        if batch % 100 == 0:\n",
        "            loss, current = loss.item(), (batch + 1) * len(X)\n",
        "\n",
        "            print(f\"Train loss: {loss:>7f}  [{current:>5d}/{size:>5d}]\")\n",
        "\n",
        "    return loss\n"
      ],
      "metadata": {
        "id": "DAVabgU1ZR2L"
      },
      "execution_count": null,
      "outputs": []
    },
    {
      "cell_type": "markdown",
      "source": [
        "### Complete code for Test loop"
      ],
      "metadata": {
        "id": "eIPHQBN95cBv"
      }
    },
    {
      "cell_type": "code",
      "source": [
        "def housing_test_loop(dataloader, model, loss_fn):\n",
        "    # Set the model to evaluation mode - important for batch normalization and dropout layers\n",
        "    # Unnecessary in this situation but added for best practices\n",
        "    model.eval()\n",
        "    size = len(dataloader.dataset)\n",
        "    num_batches = len(dataloader)\n",
        "    test_loss, correct = 0, 0\n",
        "\n",
        "    # Evaluating the model with torch.no_grad() ensures that no gradients are computed during test mode\n",
        "    # also serves to reduce unnecessary gradient computations and memory usage for tensors with requires_grad=True\n",
        "    with ...\n",
        "        for X, y in dataloader:\n",
        "            #Transfer X and y to DEVICE\n",
        "            X=...\n",
        "            y=...\n",
        "            # Compute prediction and loss\n",
        "            pred =...\n",
        "            loss = ...\n",
        "    print(\"Test loss (avg):\",  test_loss)\n",
        "\n",
        "    test_loss /= num_batches\n",
        "\n",
        "    return test_loss"
      ],
      "metadata": {
        "id": "ZStPcAj_YGXr"
      },
      "execution_count": null,
      "outputs": []
    },
    {
      "cell_type": "markdown",
      "source": [
        "### Optimization Process"
      ],
      "metadata": {
        "id": "FtUndYma5ZDr"
      }
    },
    {
      "cell_type": "code",
      "source": [
        "from torch.utils.tensorboard import SummaryWriter\n",
        "writer = SummaryWriter()\n",
        "\n",
        "\n",
        "for epoch in ...: #loop should run \"epochs\" number  of times\n",
        "    print(f\"Epoch {epoch+1}\\n-------------------------------\")\n",
        "    #call housing_train_loop and housing_test_loop\n",
        "    train_loss = ...\n",
        "    test_loss = ...\n",
        "\n",
        "    writer.add_scalar(\"Housing_Loss/train\", train_loss,epoch)\n",
        "    writer.add_scalar(\"Housing_Loss/test\", test_loss, epoch)\n",
        "\n",
        "\n",
        "writer.flush()\n",
        "writer.close()\n",
        "print(\"Done!\")"
      ],
      "metadata": {
        "id": "eV6hhqUIZ4CM"
      },
      "execution_count": null,
      "outputs": []
    }
  ],
  "metadata": {
    "kernelspec": {
      "display_name": "Python 3",
      "name": "python3"
    },
    "language_info": {
      "codemirror_mode": {
        "name": "ipython",
        "version": 3
      },
      "file_extension": ".py",
      "mimetype": "text/x-python",
      "name": "python",
      "nbconvert_exporter": "python",
      "pygments_lexer": "ipython3",
      "version": "3.8.18"
    },
    "colab": {
      "provenance": [],
      "toc_visible": true,
      "gpuType": "T4"
    },
    "accelerator": "GPU"
  },
  "nbformat": 4,
  "nbformat_minor": 0
}