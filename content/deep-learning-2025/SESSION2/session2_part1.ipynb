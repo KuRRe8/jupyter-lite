{
  "cells": [
    {
      "cell_type": "markdown",
      "metadata": {
        "id": "fgA4-lbqtGQ1"
      },
      "source": [
        "<a target=\"_blank\" href=\"https://colab.research.google.com/github/ntu-dl-bootcamp/deep-learning-2025/blob/main/SESSION2/session2_part1.ipynb\">\n",
        "  <img src=\"https://colab.research.google.com/assets/colab-badge.svg\" alt=\"Open In Colab\"/>\n",
        "</a>"
      ]
    },
    {
      "cell_type": "markdown",
      "metadata": {
        "id": "pgZqghvjtGQ-"
      },
      "source": [
        "# Deep Learning using PyTorch\n",
        "\n",
        "In last week's session, you learnt the basics of Python and looked at some popular libraries for working with data. In this session, you will learn to work with PyTorch, one of the most popular Python frameworks for Deep Learning.\n",
        "\n",
        "PyTorch is a Python-based Deep Learning platform that provides flexibility and speed for developing Deep Learning solutions. At its core, PyTorch provides the following key features:\n",
        "\n",
        "* A multidimensional **Tensor** object, similar to NumPy Array but with GPU acceleration.\n",
        "* An automatic differentiation engine called **Autograd** for efficiently and automatically computing derivatives needed for optimization.\n",
        "* A clean, modular API for building and deploying deep learning models."
      ]
    },
    {
      "cell_type": "markdown",
      "metadata": {
        "id": "RrHok7zXwCgN"
      },
      "source": [
        "In this notebook, we'll first look at Tensors - what they are, how to create them, manipulate them and perform operations on them. In actual Deep Learning projects, we might be dealing with huge datasets. So we'll take a look at how we can manage them easily using PyTorch's features. We then go through the whole flow of building neural networks, training them, testing (as well as monitoring) their performance. We will look at all the components that go into a deep learning solution using the task of identifying hand written digits from the MNIST dataset as an example.\n",
        "\n",
        "\n",
        "We have a few exercises after each section that will help you apply the concepts discussed in the notebook as well as allow you to experiment with them. We also have some challenges for you at the end of the notebook, try them all out!\n",
        "\n",
        "**Copy the notebook to your drive to start working on it**"
      ]
    },
    {
      "cell_type": "markdown",
      "metadata": {
        "id": "NaU3akAjtGQ_"
      },
      "source": [
        "A few shortcuts that might come in handy:\n",
        "\n",
        "*   Run a cell: Ctrl + Enter\n",
        "*   Run a cell and move to the next one: Shift + Enter\n",
        "*   Navigate between cells: Arrow keys"
      ]
    },
    {
      "cell_type": "markdown",
      "metadata": {
        "id": "uP88YEyGElV3"
      },
      "source": [
        "# PyTorch Basics\n",
        "\n"
      ]
    },
    {
      "cell_type": "markdown",
      "metadata": {
        "id": "7286aO-arTRx"
      },
      "source": [
        "Let's first import some useful libraries - PyTorch (torch) and Numpy"
      ]
    },
    {
      "cell_type": "code",
      "execution_count": 2,
      "metadata": {
        "id": "a-eJHUuPG_aR"
      },
      "outputs": [],
      "source": [
        "import torch\n",
        "import numpy as np"
      ]
    },
    {
      "cell_type": "markdown",
      "metadata": {
        "id": "uSVqqyYyGlzQ"
      },
      "source": [
        "## Tensors\n",
        "\n",
        "A PyTorch Tensor is a specialized data structure that is very similar to arrays and matrices. It is a multi-dimensional array with a uniform type (called a dtype), and can make use of GPUs or other hardware accelerators. Apart from the data a PyTorch tensor is supposed to store, when required, it stores additional information about its derivatives with respect to some other variables which might be necessary during the optimization step. In PyTorch, we use tensors to encode the inputs and outputs of a model, as well as the model’s parameters."
      ]
    },
    {
      "cell_type": "markdown",
      "metadata": {
        "id": "w3pGOUWFHFy4"
      },
      "source": [
        "###Creating Tensors\n",
        "\n",
        "There are various ways of creating tensors, and when working on any real deep learning project, we will usually use more than one.\n",
        "\n"
      ]
    },
    {
      "cell_type": "code",
      "execution_count": 3,
      "metadata": {
        "colab": {
          "base_uri": "https://localhost:8080/"
        },
        "id": "KJ1UPRLcHgd6",
        "outputId": "a86a74da-7fb2-4b63-a784-06deb77d671f"
      },
      "outputs": [
        {
          "name": "stdout",
          "output_type": "stream",
          "text": [
            "a: tensor([0, 1, 2])\n",
            "b: tensor([[1.0000, 1.1000],\n",
            "        [1.2000, 1.3000]])\n",
            "c: tensor([[1., 1., 1.],\n",
            "        [1., 1., 1.]], dtype=torch.float64)\n"
          ]
        }
      ],
      "source": [
        "# From Python iterables such as lists and tuples\n",
        "\n",
        "# tensor from a list\n",
        "a = torch.tensor([0, 1, 2])\n",
        "\n",
        "# tensor from a tuple of tuples (nested iterables can also be handled as long as\n",
        "# the dimensions are compatible)\n",
        "b = ((1.0, 1.1), (1.2, 1.3))\n",
        "b = torch.tensor(b)\n",
        "\n",
        "# tensor from a numpy array\n",
        "c = np.ones([2, 3])  # numpy array\n",
        "c = torch.tensor(c)\n",
        "\n",
        "print(f\"a: {a}\")\n",
        "print(f\"b: {b}\")\n",
        "print(f\"c: {c}\")"
      ]
    },
    {
      "cell_type": "code",
      "execution_count": 4,
      "metadata": {
        "colab": {
          "base_uri": "https://localhost:8080/"
        },
        "id": "OjJUf_uTkcnv",
        "outputId": "48c6d315-8c86-4b83-e103-eaccfb4e88e8"
      },
      "outputs": [
        {
          "name": "stdout",
          "output_type": "stream",
          "text": [
            "x: tensor([[1., 1., 1.],\n",
            "        [1., 1., 1.],\n",
            "        [1., 1., 1.],\n",
            "        [1., 1., 1.],\n",
            "        [1., 1., 1.]])\n",
            "y: tensor([0., 0.])\n",
            "z: tensor([[[0., 0., 0., 0., 0.]]])\n",
            "\n",
            "a: tensor([1., 1.])\n",
            "b: tensor([0, 0, 0, 0])\n"
          ]
        }
      ],
      "source": [
        "# Tensor constructors\n",
        "\n",
        "x = torch.ones(\n",
        "    5, 3\n",
        ")  # creates a tensor with given dimensions and initilaizes all elements to 1\n",
        "y = torch.zeros(\n",
        "    2\n",
        ")  # creates a tensor with given dimensions and initializes all elements to 0\n",
        "z = torch.empty(\n",
        "    1, 1, 5\n",
        ")  # creates a tensor with given dimensions, without any initialization. This is faster than ones and zeros. (Elements have garbage values)\n",
        "\n",
        "print(f\"x: {x}\")\n",
        "print(f\"y: {y}\")\n",
        "print(f\"z: {z}\")\n",
        "\n",
        "a = torch.ones_like(\n",
        "    y\n",
        ")  # creates a tensor of the same shape as the input to the function, and initializes all elements to 1\n",
        "b = torch.zeros_like(\n",
        "    torch.tensor([4, 5, 6, 7])\n",
        ")  # creates a tensor of the same shape as the input to the function, and initializes all elements to 0\n",
        "\n",
        "print(f\"\\na: {a}\")\n",
        "print(f\"b: {b}\")"
      ]
    },
    {
      "cell_type": "code",
      "execution_count": 5,
      "metadata": {
        "colab": {
          "base_uri": "https://localhost:8080/"
        },
        "id": "cru_2ReElz0K",
        "outputId": "5555e438-c5e5-4d9b-e98f-b39e8d89f21f"
      },
      "outputs": [
        {
          "name": "stdout",
          "output_type": "stream",
          "text": [
            "a: tensor([[0.9722, 0.1920, 0.1819]])\n",
            "b: tensor([[-0.7039, -0.2266, -0.4688,  0.4628],\n",
            "        [-1.3385,  1.3154, -0.2413,  0.6706],\n",
            "        [-0.0798, -1.1860,  1.4470,  0.1781]])\n"
          ]
        }
      ],
      "source": [
        "# Random tensors\n",
        "\n",
        "# Uniform distribution\n",
        "a = torch.rand(1, 3)\n",
        "\n",
        "# Normal distribution\n",
        "b = torch.randn(3, 4)\n",
        "\n",
        "print(f\"a: {a}\")\n",
        "print(f\"b: {b}\")"
      ]
    },
    {
      "cell_type": "code",
      "execution_count": 6,
      "metadata": {
        "colab": {
          "base_uri": "https://localhost:8080/"
        },
        "id": "p_KW4owJnQ2q",
        "outputId": "abea0403-a579-4e2a-81f3-f506554ecfc3"
      },
      "outputs": [
        {
          "name": "stdout",
          "output_type": "stream",
          "text": [
            "a: tensor([0, 2, 4, 6, 8])\n",
            "\n",
            "b: tensor([0.0000, 0.5000, 1.0000, 1.5000, 2.0000, 2.5000, 3.0000, 3.5000, 4.0000,\n",
            "        4.5000, 5.0000])\n",
            "\n"
          ]
        }
      ],
      "source": [
        "# Number ranges\n",
        "\n",
        "a = torch.arange(\n",
        "    0, 10, step=2\n",
        ")  # creates a tensor with elements from 0 (included) to 10 (excluded), with step size 2\n",
        "b = torch.linspace(\n",
        "    0, 5, steps=11\n",
        ")  # creates a tensor with 11 equally spaced elements from 0 to 5 (both included)\n",
        "\n",
        "print(f\"a: {a}\\n\")\n",
        "print(f\"b: {b}\\n\")"
      ]
    },
    {
      "cell_type": "markdown",
      "metadata": {
        "id": "SeyE2UnE4TAS"
      },
      "source": [
        "### Tensor Operations"
      ]
    },
    {
      "cell_type": "code",
      "execution_count": 7,
      "metadata": {
        "colab": {
          "base_uri": "https://localhost:8080/"
        },
        "id": "q9bBOOQ95B4d",
        "outputId": "8c2f4bfa-27fe-4306-adc0-f36870b1cf2e"
      },
      "outputs": [
        {
          "name": "stdout",
          "output_type": "stream",
          "text": [
            "x + y: tensor([ 2,  4,  7, 12])\n",
            "x - y: tensor([0, 0, 1, 4])\n",
            "x * y: tensor([ 1,  4, 12, 32])\n",
            "x / y: tensor([1.0000, 1.0000, 1.3333, 2.0000])\n",
            "x**y: tensor([   1,    4,   64, 4096])\n"
          ]
        }
      ],
      "source": [
        "# Pointwise tensor arithmetic using regular python operators\n",
        "\n",
        "x = torch.tensor([1, 2, 4, 8])\n",
        "y = torch.tensor([1, 2, 3, 4])\n",
        "\n",
        "# x + y, x - y, x * y, x / y, x**y  # The `**` is the exponentiation operator\n",
        "\n",
        "print(f\"x + y: {x + y}\")\n",
        "print(f\"x - y: {x - y}\")\n",
        "print(f\"x * y: {x * y}\")\n",
        "print(f\"x / y: {x / y}\")\n",
        "print(f\"x**y: {x**y}\")"
      ]
    },
    {
      "cell_type": "code",
      "execution_count": 8,
      "metadata": {
        "colab": {
          "base_uri": "https://localhost:8080/"
        },
        "id": "LXdBZPsO4lAt",
        "outputId": "e44dbabd-acfd-4f3d-c32b-952ebb235a9d"
      },
      "outputs": [
        {
          "name": "stdout",
          "output_type": "stream",
          "text": [
            "Sum of x and y: tensor([ 2,  4,  7, 12])\n",
            "\n",
            "Pointwise multiplication of x and y: tensor([ 1,  4, 12, 32])\n"
          ]
        }
      ],
      "source": [
        "# Pointwise tensor arithmetic using inbuilt functions\n",
        "\n",
        "# Adding tensors of the same shape\n",
        "z = torch.add(x, y)\n",
        "print(f\"Sum of x and y: {z}\\n\")\n",
        "\n",
        "# Pointwise multiplication of tensors\n",
        "torch.multiply(\n",
        "    x, y, out=z\n",
        ")  # using the optional 'out' parameter to store the result (works only when z already exists)\n",
        "\n",
        "print(f\"Pointwise multiplication of x and y: {z}\")"
      ]
    },
    {
      "cell_type": "code",
      "execution_count": 9,
      "metadata": {
        "colab": {
          "base_uri": "https://localhost:8080/"
        },
        "id": "Yb47v4Og5JlD",
        "outputId": "046e35e7-cd80-4aca-b7fc-7ad1d55089db"
      },
      "outputs": [
        {
          "name": "stdout",
          "output_type": "stream",
          "text": [
            "tensor([[0.3628, 0.3617, 0.3136],\n",
            "        [0.7388, 0.7392, 0.1745],\n",
            "        [0.2801, 0.4414, 0.7089]])\n",
            "\n",
            "Sum of every element of x: 4.121111869812012\n",
            "Sum of the columns of x: tensor([1.3817, 1.5424, 1.1970])\n",
            "Sum of the rows of x: tensor([1.0382, 1.6524, 1.4305])\n",
            "\n",
            "Mean value of all elements of x 0.45790132880210876\n",
            "Mean values of the columns of x tensor([0.4606, 0.5141, 0.3990])\n",
            "Mean values of the rows of x tensor([0.3461, 0.5508, 0.4768])\n"
          ]
        }
      ],
      "source": [
        "# Operations on elements within a tensor\n",
        "\n",
        "x = torch.rand(3, 3)\n",
        "print(x)\n",
        "\n",
        "# sum() - note the axis is the axis you move across when summing\n",
        "print(f\"\\nSum of every element of x: {x.sum()}\")\n",
        "print(f\"Sum of the columns of x: {x.sum(axis=0)}\")\n",
        "print(f\"Sum of the rows of x: {x.sum(axis=1)}\")\n",
        "\n",
        "print(f\"\\nMean value of all elements of x {x.mean()}\")\n",
        "print(f\"Mean values of the columns of x {x.mean(axis=0)}\")\n",
        "print(f\"Mean values of the rows of x {x.mean(axis=1)}\")"
      ]
    },
    {
      "cell_type": "code",
      "execution_count": 10,
      "metadata": {
        "colab": {
          "base_uri": "https://localhost:8080/"
        },
        "id": "1mg-lSTOF7uQ",
        "outputId": "317d6203-4013-46ac-f907-ba604dd81bb7"
      },
      "outputs": [
        {
          "name": "stdout",
          "output_type": "stream",
          "text": [
            "z1: tensor([[ 9, 12, 15],\n",
            "        [19, 26, 33],\n",
            "        [29, 40, 51]])\n",
            "z2: tensor([[22, 28],\n",
            "        [49, 64]])\n"
          ]
        }
      ],
      "source": [
        "# Performing matrix multiplication on Tensors\n",
        "\n",
        "x = torch.tensor(\n",
        "    [  # 3x2 matrix\n",
        "        [1, 2],\n",
        "        [3, 4],\n",
        "        [5, 6],\n",
        "    ]\n",
        ")\n",
        "\n",
        "y = torch.tensor(\n",
        "    [  # 2x3 matrix\n",
        "        [1, 2, 3],\n",
        "        [4, 5, 6],\n",
        "    ]\n",
        ")\n",
        "\n",
        "z1 = torch.matmul(x, y)  # (3x2)*(2x3)-->(3x3)\n",
        "z2 = torch.matmul(y, x)  # (2x3)*(3x2)-->(2x2)\n",
        "\n",
        "# torch.matmul is different from torch.mul - try what torch.mul does on a pair\n",
        "# of(1x3) and (3x1) tensors\n",
        "\n",
        "print(f\"z1: {z1}\")\n",
        "print(f\"z2: {z2}\")"
      ]
    },
    {
      "cell_type": "markdown",
      "metadata": {
        "id": "5rfOg-buGF5U"
      },
      "source": [
        "### Manipulating Tensors"
      ]
    },
    {
      "cell_type": "markdown",
      "metadata": {
        "id": "WTg6eyvX6m_c"
      },
      "source": [
        "#### Indexing elements from the tensor"
      ]
    },
    {
      "cell_type": "code",
      "execution_count": 11,
      "metadata": {
        "colab": {
          "base_uri": "https://localhost:8080/"
        },
        "id": "Tr4q3WfzGOi8",
        "outputId": "3634503a-699c-42f4-f218-0b691829b4a2"
      },
      "outputs": [
        {
          "name": "stdout",
          "output_type": "stream",
          "text": [
            "tensor(6)\n",
            "<class 'torch.Tensor'>\n",
            "6\n",
            "<class 'int'>\n",
            "\n",
            "\n",
            "tensor([1, 2, 3])\n",
            "tensor([[4, 5],\n",
            "        [7, 8]])\n",
            "x = tensor([[1, 2, 3],\n",
            "        [4, 5, 6],\n",
            "        [7, 8, 9]])\n",
            "\n",
            "After assignment, x:\n",
            "tensor([[-1,  2,  3],\n",
            "        [ 1,  1,  0],\n",
            "        [ 1,  1,  0]])\n"
          ]
        }
      ],
      "source": [
        "x = torch.tensor([[1, 2, 3], [4, 5, 6], [7, 8, 9]])\n",
        "\n",
        "# Index the third element of the second row using the [_, _] format\n",
        "print(x[1, 2])\n",
        "print(type(x[1, 2]))\n",
        "\n",
        "# Indexing a single element returns a 1D tensor. 1DTensor.item() to get the item stored in the tensor\n",
        "print(x[1, 2].item())\n",
        "print(type(x[1, 2].item()))\n",
        "print(\"\\n\")\n",
        "\n",
        "# Index the first row\n",
        "print(x[0])\n",
        "\n",
        "# Index a range of elements\n",
        "print(x[1:3, 0:2])\n",
        "\n",
        "# Changing the contents of a portion of the tensor\n",
        "\n",
        "print(f\"x = {x}\")\n",
        "x[0, 0] = -1\n",
        "x[1:, 2] = 0\n",
        "x[1:, 0:2] = torch.ones(2, 2)\n",
        "print(f\"\\nAfter assignment, x:\\n{x}\")"
      ]
    },
    {
      "cell_type": "markdown",
      "metadata": {
        "id": "l8ctLKuh6tNk"
      },
      "source": [
        "#### Changing the shape of a tensor"
      ]
    },
    {
      "cell_type": "code",
      "execution_count": 12,
      "metadata": {
        "colab": {
          "base_uri": "https://localhost:8080/"
        },
        "id": "394op-yxGX7F",
        "outputId": "76532fa7-5d46-4e9d-bfff-0a09d81a3f4f"
      },
      "outputs": [
        {
          "name": "stdout",
          "output_type": "stream",
          "text": [
            "x = tensor([[ 1,  2,  3,  4],\n",
            "        [ 5,  6,  7,  8],\n",
            "        [ 9, 10, 11, 12]])\n",
            "y = tensor([ 1,  2,  3,  4,  5,  6,  7,  8,  9, 10, 11, 12])\n",
            "z = tensor([[ 1,  2,  3],\n",
            "        [ 4,  5,  6],\n",
            "        [ 7,  8,  9],\n",
            "        [10, 11, 12]])\n",
            "\n",
            "After changing x:\n",
            "y = tensor([ 0,  2,  3,  4,  5,  6,  7,  8,  9, 10, 11, 12])\n",
            "z = tensor([[ 0,  2,  3],\n",
            "        [ 4,  5,  6],\n",
            "        [ 7,  8,  9],\n",
            "        [10, 11, 12]])\n",
            "\n",
            "After changing y:\n",
            "x = tensor([[0, 2, 3, 4],\n",
            "        [5, 6, 0, 0],\n",
            "        [0, 0, 0, 0]])\n"
          ]
        }
      ],
      "source": [
        "x = torch.tensor([[1, 2, 3, 4], [5, 6, 7, 8], [9, 10, 11, 12]])\n",
        "print(f\"x = {x}\")\n",
        "\n",
        "# flatten - lets you treat a multidimensional tensor as a single dimension one\n",
        "y = x.flatten()\n",
        "print(f\"y = {y}\")\n",
        "\n",
        "# reshape - lets you treat a tensor as one with the given shape (x.view() does\n",
        "# the same thing, but works only for contiguous tensors)\n",
        "z = x.reshape(4, 3)\n",
        "print(f\"z = {z}\\n\")\n",
        "\n",
        "# Important - flatten and reshape only give you a view of the original array\n",
        "# That means that they all share the same memory and any changes made to one\n",
        "# of reflect in the all of them\n",
        "\n",
        "x[0, 0] = 0\n",
        "print(\"After changing x:\")\n",
        "print(f\"y = {y}\")\n",
        "print(f\"z = {z}\")\n",
        "\n",
        "y[6:] = 0\n",
        "print(\"\\nAfter changing y:\")\n",
        "print(f\"x = {x}\")"
      ]
    },
    {
      "cell_type": "markdown",
      "metadata": {
        "id": "oSReQcZh6z5B"
      },
      "source": [
        "#### Making copies of the tensor"
      ]
    },
    {
      "cell_type": "code",
      "execution_count": 13,
      "metadata": {
        "colab": {
          "base_uri": "https://localhost:8080/"
        },
        "id": "doMPy4kt1YLg",
        "outputId": "0a284ca1-dfc6-4419-ba63-821cdfc7d5f3"
      },
      "outputs": [
        {
          "name": "stdout",
          "output_type": "stream",
          "text": [
            "After making the changes to x and y:\n",
            "x = tensor([[ 0,  2,  3,  4],\n",
            "        [ 0,  6,  7,  8],\n",
            "        [ 0, 10, 11, 12]])\n",
            "y = tensor([[ 0,  0,  0,  0],\n",
            "        [ 5,  6,  7,  8],\n",
            "        [ 9, 10, 11, 12]])\n"
          ]
        }
      ],
      "source": [
        "x = torch.tensor([[1, 2, 3, 4], [5, 6, 7, 8], [9, 10, 11, 12]])\n",
        "\n",
        "y = torch.clone(x)\n",
        "\n",
        "x[:, 0] = 0\n",
        "y[0, :] = 0\n",
        "print(\"After making the changes to x and y:\")\n",
        "print(f\"x = {x}\")\n",
        "print(f\"y = {y}\")\n",
        "\n",
        "# Flatten and reshape can be used on a clone of the original tensor to keep each\n",
        "# of them unaffected by changes to the other"
      ]
    },
    {
      "cell_type": "markdown",
      "metadata": {
        "id": "x7Wz0TVc69qn"
      },
      "source": [
        "#### Adding elements to the tensor"
      ]
    },
    {
      "cell_type": "code",
      "execution_count": 14,
      "metadata": {
        "colab": {
          "base_uri": "https://localhost:8080/"
        },
        "id": "yejSF1msGj9_",
        "outputId": "2494a527-986e-4276-af34-30ac95cdfb5a"
      },
      "outputs": [
        {
          "name": "stdout",
          "output_type": "stream",
          "text": [
            "tensor([[1, 2],\n",
            "        [3, 4],\n",
            "        [5, 6],\n",
            "        [6, 7]])\n",
            "tensor([[1, 2, 5, 6, 7],\n",
            "        [3, 4, 8, 9, 0]])\n"
          ]
        }
      ],
      "source": [
        "# The append function does not exist in tensors as they have a fixed size, so we\n",
        "# make use of the concat function to get a new tensor with additional elements\n",
        "\n",
        "x = torch.tensor([[1, 2], [3, 4]])\n",
        "\n",
        "y = torch.tensor([[5, 6], [6, 7]])\n",
        "\n",
        "z = torch.tensor([[5, 6, 7], [8, 9, 0]])\n",
        "\n",
        "# torch.cat(tensors, dim=0) takes in a tuple of tensors to concatenate, and an\n",
        "# optional dim parameter to specify the dimension along which to concatenate\n",
        "print(torch.cat((x, y), dim=0))\n",
        "print(torch.cat((x, z), dim=1))  # try with dim=-1 and guess what that means\n",
        "\n",
        "# Note: cat(), concat() and concatenate() are all aliases of each other, they\n",
        "# work in the exact same manner"
      ]
    },
    {
      "cell_type": "code",
      "execution_count": 15,
      "metadata": {
        "colab": {
          "base_uri": "https://localhost:8080/"
        },
        "id": "TYooGuYWgJVJ",
        "outputId": "e84dd030-4f47-41d2-b248-9f3a5eef13a8"
      },
      "outputs": [
        {
          "name": "stdout",
          "output_type": "stream",
          "text": [
            "tensor([[1, 2, 5, 6, 7],\n",
            "        [3, 4, 8, 9, 0]])\n"
          ]
        }
      ],
      "source": [
        "print(torch.cat((x, z), dim=-1))  # it results in the same output as dim = 1"
      ]
    },
    {
      "cell_type": "markdown",
      "metadata": {
        "id": "03Z3nXkzD2C5"
      },
      "source": [
        "### Exercises\n",
        "\n",
        "Practice the things learnt above using the following exercises:"
      ]
    },
    {
      "cell_type": "code",
      "execution_count": 16,
      "metadata": {
        "colab": {
          "base_uri": "https://localhost:8080/"
        },
        "id": "TuUPgy71DPoT",
        "outputId": "e281cec4-aad6-4731-eebf-6751e423c982"
      },
      "outputs": [
        {
          "name": "stdout",
          "output_type": "stream",
          "text": [
            "tensor([[0., 0., 0.],\n",
            "        [0., 0., 0.],\n",
            "        [0., 0., 0.]])\n"
          ]
        }
      ],
      "source": [
        "x = torch.zeros(3, 3)\n",
        "print(x)\n",
        "\n",
        "# 1. Populate x with values ranging from 0 to 8. (*** Mention shape also)\n",
        "\n",
        "# 2. Print out the element at the second row and third column.\n",
        "\n",
        "# 3. Change the value of the element at the first row and second column to 10.\n",
        "\n",
        "# 4. Flatten the tensor and print the result.\n",
        "\n",
        "# 5. Concatenate the tensor with another 1x3 tensor with values ranging from 9 to 11.\n",
        "\n",
        "# 6. Reshape the tensor (*** which tensor) to a 2x6 tensor and print the result.\n",
        "\n",
        "# 7. First make a copy of the tensor, and then in the copy, have the elements appear in the reverse order."
      ]
    },
    {
      "cell_type": "markdown",
      "metadata": {
        "id": "2Kcin1IJiP6W"
      },
      "source": [
        "## GPU vs CPU Execution\n",
        "\n"
      ]
    },
    {
      "cell_type": "markdown",
      "metadata": {
        "id": "hFA6lhjniiEu"
      },
      "source": [
        "Colab gives you the option of running the notebook on a CPU or a GPU (with a limited session time). Here is how you can check whether you have a GPU available with you or not:"
      ]
    },
    {
      "cell_type": "code",
      "execution_count": 17,
      "metadata": {
        "colab": {
          "base_uri": "https://localhost:8080/"
        },
        "id": "5LiD0Ju13t-y",
        "outputId": "4d30bec9-2185-4d9f-bf92-fae4694055c0"
      },
      "outputs": [
        {
          "name": "stdout",
          "output_type": "stream",
          "text": [
            "True\n"
          ]
        }
      ],
      "source": [
        "import torch\n",
        "import numpy as np\n",
        "\n",
        "print(torch.cuda.is_available())"
      ]
    },
    {
      "cell_type": "markdown",
      "metadata": {
        "id": "vELyhJuXITm9"
      },
      "source": [
        "\n",
        "Go to the Runtime tab → Change runtime type and try switching between the T4 GPU and CPU options from the Hardware Accelerator list and rerun the above cell. Switch back to GPU and rerun the cell before moving on.\n",
        "\n",
        "*Once you change the runtime you will need to import necessary libraries again, that is the reason for the import statements repeating in the above cell.*"
      ]
    },
    {
      "cell_type": "markdown",
      "metadata": {
        "id": "wbWNz4OtJVZx"
      },
      "source": [
        "Let's store the information about availability of GPU inside a variable called DEVICE which we shall use later. If we want to make use of the GPU resource, when it is available, we will need to move the tensors and the model onto the GPU. We do this in the following manner:"
      ]
    },
    {
      "cell_type": "code",
      "execution_count": 18,
      "metadata": {
        "colab": {
          "base_uri": "https://localhost:8080/"
        },
        "id": "fGa-HmE7jE6-",
        "outputId": "595577c0-6243-4c6b-c31b-14f452d469e0"
      },
      "outputs": [
        {
          "name": "stdout",
          "output_type": "stream",
          "text": [
            "dtype of x: torch.float32\n",
            "device on which x is stored: cuda:0\n",
            "y before calling to() | device: cpu | dtype: torch.FloatTensor\n",
            "y after calling to() | device: cuda:0 | dtype: torch.cuda.FloatTensor\n"
          ]
        }
      ],
      "source": [
        "DEVICE = \"cuda\" if torch.cuda.is_available() else \"cpu\"\n",
        "\n",
        "# we can specify a device when we first create our tensor\n",
        "x = torch.randn(2, 2, device=DEVICE)\n",
        "print(\"dtype of x:\", x.dtype)\n",
        "print(\"device on which x is stored:\", x.device)\n",
        "\n",
        "# we can also use the .to() method to change the device a tensor lives on\n",
        "y = torch.randn(2, 2)\n",
        "print(f\"y before calling to() | device: {y.device} | dtype: {y.type()}\")\n",
        "\n",
        "y = y.to(DEVICE)\n",
        "print(f\"y after calling to() | device: {y.device} | dtype: {y.type()}\")"
      ]
    },
    {
      "cell_type": "markdown",
      "metadata": {
        "id": "NESIXEmzEOAz"
      },
      "source": [
        "Resources used to make this tutorial: [Neuromatch Academy PyTorch Tutorial](https://deeplearning.neuromatch.io/tutorials/W1D1_BasicsAndPytorch/student/W1D1_Tutorial1.html), [PyTorch - Learn The Basics](https://pytorch.org/tutorials/beginner/basics/intro.html)"
      ]
    }
  ],
  "metadata": {
    "accelerator": "GPU",
    "colab": {
      "gpuType": "T4",
      "provenance": [],
      "toc_visible": true
    },
    "kernelspec": {
      "display_name": "Python 3",
      "name": "python3"
    },
    "language_info": {
      "codemirror_mode": {
        "name": "ipython",
        "version": 3
      },
      "file_extension": ".py",
      "mimetype": "text/x-python",
      "name": "python",
      "nbconvert_exporter": "python",
      "pygments_lexer": "ipython3",
      "version": "3.8.18"
    }
  },
  "nbformat": 4,
  "nbformat_minor": 0
}
